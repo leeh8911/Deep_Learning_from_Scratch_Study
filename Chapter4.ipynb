{
  "nbformat": 4,
  "nbformat_minor": 0,
  "metadata": {
    "colab": {
      "name": "Chapter4.ipynb",
      "version": "0.3.2",
      "provenance": [],
      "collapsed_sections": [],
      "include_colab_link": true
    },
    "kernelspec": {
      "name": "python3",
      "display_name": "Python 3"
    },
    "accelerator": "GPU"
  },
  "cells": [
    {
      "cell_type": "markdown",
      "metadata": {
        "id": "view-in-github",
        "colab_type": "text"
      },
      "source": [
        "<a href=\"https://colab.research.google.com/github/leeh8911/Deep_Learning_from_Scratch_Study/blob/master/Chapter4.ipynb\" target=\"_parent\"><img src=\"https://colab.research.google.com/assets/colab-badge.svg\" alt=\"Open In Colab\"/></a>"
      ]
    },
    {
      "cell_type": "code",
      "metadata": {
        "id": "qyK4HwqIfEdk",
        "colab_type": "code",
        "outputId": "602fad12-60ea-4ba1-f642-13f007a7d181",
        "colab": {
          "base_uri": "https://localhost:8080/",
          "height": 73
        }
      },
      "source": [
        "from google.colab import auth\n",
        "auth.authenticate_user()\n",
        "\n",
        "from google.colab import drive\n",
        "drive.mount('/content/gdrive')\n",
        "\n",
        "import sys, os\n",
        "os.chdir(\"/content/gdrive/My Drive/github/deep-learning-from-scratch/ch04\")\n",
        "sys.path.append(os.pardir)\n",
        "from dataset.mnist import load_mnist\n",
        "\n",
        "import numpy as np\n",
        "import matplotlib.pylab as plt\n",
        "\n",
        "print(\"env setting finished!\")"
      ],
      "execution_count": 73,
      "outputs": [
        {
          "output_type": "stream",
          "text": [
            "Drive already mounted at /content/gdrive; to attempt to forcibly remount, call drive.mount(\"/content/gdrive\", force_remount=True).\n",
            "env setting finished!\n"
          ],
          "name": "stdout"
        }
      ]
    },
    {
      "cell_type": "code",
      "metadata": {
        "id": "w9d5K_bimL0T",
        "colab_type": "code",
        "colab": {}
      },
      "source": [
        "# functions\n",
        "def mean_squared_error(y, t):\n",
        "    return 0.5 * np.sum((y-t)**2)\n",
        "\n",
        "def cross_entropy_error(y, t):\n",
        "    if y.ndim == 1:\n",
        "        t = t.reshape(1, t.size)\n",
        "        y = y.reshape(1, y.size)       \n",
        "    \n",
        "    batch_size = y.shape[0]\n",
        "    delta = 1e-7\n",
        "    return -np.sum(t * np.log(y + delta))/batch_size\n",
        "\n",
        "def numerical_diff(f, x):\n",
        "    h = 1e-4\n",
        "    return (f(x+h) - f(x-h))/(2*h)\n",
        "\n",
        "def numerical_gradient(f, x):\n",
        "    h = 1e-4\n",
        "    grad = np.zeros_like(x)\n",
        "    \n",
        "    for idx in range(x.size):\n",
        "        tmp_val = x[idx]\n",
        "        \n",
        "        x[idx] = tmp_val + h\n",
        "        fxh1 = f(x)\n",
        "        \n",
        "        x[idx] = tmp_val - h\n",
        "        fxh2 = f(x)\n",
        "        \n",
        "        grad[idx] = (fxh1 - fxh2)/(2*h)\n",
        "    return grad\n",
        "\n",
        "def gradient_descent(f, init_x, lr = 0.01, step_num = 100):\n",
        "    x = init_x\n",
        "    \n",
        "    for i in range(step_num):\n",
        "        grad = numerical_gradient(f, x)\n",
        "        x -= grad*lr\n",
        "        \n",
        "    return x"
      ],
      "execution_count": 0,
      "outputs": []
    },
    {
      "cell_type": "markdown",
      "metadata": {
        "id": "RxhpOwc-uSxs",
        "colab_type": "text"
      },
      "source": [
        ""
      ]
    },
    {
      "cell_type": "code",
      "metadata": {
        "id": "Hy_AMejzvG1D",
        "colab_type": "code",
        "outputId": "611fd06b-5e72-4979-8560-d723c11b54f6",
        "colab": {
          "base_uri": "https://localhost:8080/",
          "height": 319
        }
      },
      "source": [
        "def function_1(x):\n",
        "    return 0.01*x**2 + 0.1*x\n",
        "\n",
        "def function_2(x):\n",
        "    return x[0]**2 + x[1]**2\n",
        "\n",
        "x = np.arange(0.0, 20.0, 0.1)\n",
        "y = function_1(x)\n",
        "\n",
        "x1 = 5\n",
        "y1 = function_1(x1)\n",
        "m1 = numerical_diff(function_1, x1)\n",
        "x2 = 10\n",
        "y2 = function_1(x2)\n",
        "m2 = numerical_diff(function_1, x2)\n",
        "\n",
        "plt.xlabel('x')\n",
        "plt.ylabel('y')\n",
        "plt.plot(x, y)\n",
        "plt.plot(x1, y1, 'or')\n",
        "plt.plot(x2, y2, 'or')\n",
        "plt.plot(x, m1*(x - x1) + y1, '--m', linewidth = .5)\n",
        "plt.plot(x, m2*(x - x2) + y2, '--r', linewidth = .5)\n",
        "plt.show\n",
        "\n",
        "print(numerical_diff(function_1, 5))\n",
        "print(numerical_diff(function_1, 10))"
      ],
      "execution_count": 75,
      "outputs": [
        {
          "output_type": "stream",
          "text": [
            "0.1999999999990898\n",
            "0.2999999999986347\n"
          ],
          "name": "stdout"
        },
        {
          "output_type": "display_data",
          "data": {
            "image/png": "[encoded data removed]",
            "text/plain": [
              "<Figure size 432x288 with 1 Axes>"
            ]
          },
          "metadata": {
            "tags": []
          }
        }
      ]
    },
    {
      "cell_type": "code",
      "metadata": {
        "id": "LUbGzHqemW5b",
        "colab_type": "code",
        "outputId": "75b38a60-f317-4748-ab8b-3b2e0b454a1f",
        "colab": {
          "base_uri": "https://localhost:8080/",
          "height": 107
        }
      },
      "source": [
        "# test mean_square_error function\n",
        "t1 = [0,0,1,0,0,0,0,0,0,0]\n",
        "y1 = [0.1, 0.05, 0.6, 0.0, 0.05, 0.1, 0.0, 0.1, 0.0, 0.0]\n",
        "y2 = [0.1, 0.05, 0.1, 0.0, 0.05, 0.1, 0.0, 0.6, 0.0, 0.0]\n",
        "\n",
        "print(np.array(t1).shape)\n",
        "print(np.array(y1).shape)\n",
        "print(np.array(y2).shape)\n",
        "mse_1 = mean_squared_error(np.array(y1), np.array(t1))\n",
        "mse_2 = mean_squared_error(np.array(y2), np.array(t1))\n",
        "print(mse_1, mse_2)\n",
        "\n",
        "cee_1 = cross_entropy_error(np.array(y1), np.array(t1))\n",
        "cee_2 = cross_entropy_error(np.array(y2), np.array(t1))\n",
        "print(cee_1, cee_2)"
      ],
      "execution_count": 76,
      "outputs": [
        {
          "output_type": "stream",
          "text": [
            "(10,)\n",
            "(10,)\n",
            "(10,)\n",
            "0.09750000000000003 0.5975\n",
            "0.510825457099338 2.302584092994546\n"
          ],
          "name": "stdout"
        }
      ]
    },
    {
      "cell_type": "code",
      "metadata": {
        "id": "AM1nN9cZtL0r",
        "colab_type": "code",
        "outputId": "af4fbc15-79e8-49b4-b4d7-16ce1ff2406d",
        "colab": {
          "base_uri": "https://localhost:8080/",
          "height": 53
        }
      },
      "source": [
        "# mini batch learning\n",
        "(x_train, t_train), (x_test, t_test) = \\\n",
        "    load_mnist(normalize = True, one_hot_label = True)\n",
        "\n",
        "print(x_train.shape) # (60000, 784)\n",
        "print(t_train.shape) # (60000,10)\n",
        "\n",
        "train_size = x_train.shape[0]\n",
        "batch_size = 10\n",
        "batch_mask = np.random.choice(train_size, batch_size)\n",
        "\n",
        "x_batch = x_train[batch_mask]\n",
        "t_batch = t_train[batch_mask]"
      ],
      "execution_count": 77,
      "outputs": [
        {
          "output_type": "stream",
          "text": [
            "(60000, 784)\n",
            "(60000, 10)\n"
          ],
          "name": "stdout"
        }
      ]
    },
    {
      "cell_type": "code",
      "metadata": {
        "id": "niPCoIh7CeYg",
        "colab_type": "code",
        "colab": {
          "base_uri": "https://localhost:8080/",
          "height": 125
        },
        "outputId": "1c60a1f3-f131-421d-c628-78d633e3c525"
      },
      "source": [
        "# test gradient functions\n",
        "\n",
        "grad1_f2 = numerical_gradient(function_2, np.array([3.0, 4.0]))\n",
        "grad2_f2 = numerical_gradient(function_2, np.array([0.0, 2.0]))\n",
        "grad3_f2 = numerical_gradient(function_2, np.array([3.0, 0.0]))\n",
        "\n",
        "print(grad1_f2, np.array([3.0, 4.0]))\n",
        "print(grad2_f2, np.array([0.0, 2.0]))\n",
        "print(grad3_f2, np.array([3.0, 0.0]))\n",
        "\n",
        "init_x = np.array([-3.0, 4.0])\n",
        "min_x = gradient_descent(function_2, init_x = init_x, lr = 0.1, step_num = 100)\n",
        "print(min_x, function_2(min_x)) \n",
        "# i dont know why difference between book and my code answer.... XD\n",
        "# the book's answer is x is almost zero vector\n",
        "\n",
        "init_x = np.array([-3.0, 4.0])\n",
        "min_x = gradient_descent(function_2, init_x = init_x, lr = 10.0, step_num = 100)\n",
        "print(min_x, function_2(min_x)) \n",
        "\n",
        "init_x = np.array([-3.0, 4.0])\n",
        "min_x = gradient_descent(function_2, init_x = init_x, lr = 1e-10, step_num = 100)\n",
        "print(min_x, function_2(min_x)) "
      ],
      "execution_count": 78,
      "outputs": [
        {
          "output_type": "stream",
          "text": [
            "[6. 8.] [3. 4.]\n",
            "[0. 4.] [0. 2.]\n",
            "[6. 0.] [3. 0.]\n",
            "[-0.0005 -0.0005] 4.999997960937364e-07\n",
            "[-2.58985795e+13 -1.29524822e+12] 6.724140899951673e+26\n",
            "[-3.00999994  3.98999992] 24.980199000594027\n"
          ],
          "name": "stdout"
        }
      ]
    },
    {
      "cell_type": "code",
      "metadata": {
        "id": "END4kuROQj1J",
        "colab_type": "code",
        "colab": {}
      },
      "source": [
        "# simpleNet\n",
        "from common.functions import softmax, cross_entropy_error\n",
        "from common.gradient import numerical_gradient\n",
        "\n",
        "class simpleNet:\n",
        "    def __init__(self):\n",
        "        self.W = np.random.randn(2,3)\n",
        "        \n",
        "    def predict(self, x):\n",
        "        return np.dot(x, self.W)\n",
        "    \n",
        "    def loss(self, x, t):\n",
        "        z = self.predict(x)\n",
        "        y = softmax(z)\n",
        "        loss = cross_entropy_error(y,t)\n",
        "        \n",
        "        return loss"
      ],
      "execution_count": 0,
      "outputs": []
    },
    {
      "cell_type": "code",
      "metadata": {
        "id": "wN5e0LlmRUBi",
        "colab_type": "code",
        "colab": {
          "base_uri": "https://localhost:8080/",
          "height": 125
        },
        "outputId": "32c5a5b5-0ff3-41dc-fb9f-7fd60e884b26"
      },
      "source": [
        "# test simpleNet\n",
        "net = simpleNet()\n",
        "print(net.W)\n",
        "\n",
        "x = np.array([0.6, 0.9])\n",
        "p = net.predict(x)\n",
        "print(p)\n",
        "\n",
        "np.argmax(p)\n",
        "\n",
        "t = np.array([0, 0, 1])\n",
        "l = net.loss(x, t)\n",
        "print(l)\n",
        "\n",
        "def f(W):\n",
        "    return net.loss(x, t)\n",
        "\n",
        "dW = numerical_gradient(f, net.W)\n",
        "print(dW)"
      ],
      "execution_count": 80,
      "outputs": [
        {
          "output_type": "stream",
          "text": [
            "[[-2.30758963 -1.45961361  0.53201863]\n",
            " [-1.8729761  -1.60650884 -0.94764363]]\n",
            "[-3.07023227 -2.32162612 -0.53366809]\n",
            "0.22029078624130743\n",
            "[[ 0.03809467  0.08053409 -0.11862876]\n",
            " [ 0.05714201  0.12080114 -0.17794314]]\n"
          ],
          "name": "stdout"
        }
      ]
    },
    {
      "cell_type": "code",
      "metadata": {
        "id": "FQYEYU6aSGRJ",
        "colab_type": "code",
        "colab": {}
      },
      "source": [
        "from common.functions import *\n",
        "from common.gradient import numerical_gradient\n",
        "\n",
        "class TwoLayerNet:\n",
        "    def __init__(self, input_size, hidden_size, output_size,\n",
        "                weight_init_std = 0.01):\n",
        "        # initialize weight\n",
        "        self.params = {}\n",
        "        self.params['W1'] = weight_init_std * np.random.randn(input_size, hidden_size)\n",
        "        self.params['b1'] = np.zeros(hidden_size)\n",
        "        self.params['W2'] = weight_init_std * np.random.randn(hidden_size, output_size)\n",
        "        self.params['b2'] = np.zeros(output_size)\n",
        "        \n",
        "    def predict(self, x):\n",
        "        W1, W2 = self.params['W1'], self.params['W2']\n",
        "        b1, b2 = self.params['b1'], self.params['b2']\n",
        "        \n",
        "        a1 = np.dot(x, W1) + b1\n",
        "        z1 = sigmoid(a1)\n",
        "        a2 = np.dot(z1, W2) + b2\n",
        "        y = softmax(a2)\n",
        "        \n",
        "        return y\n",
        "    \n",
        "    def loss(self, x, t):\n",
        "        y = self.predict(x)\n",
        "        return cross_entropy_error(y, t)\n",
        "    \n",
        "    def accuracy(self, x, t):\n",
        "        y = self.predict(x)\n",
        "        y = np.argmax(y, axis = 1)\n",
        "        t = np.argmax(t, axis = 1)\n",
        "        \n",
        "        accuracy = np.sum(y == t) / float(x.shape[0])\n",
        "        return accuracy\n",
        "    \n",
        "    def numerical_gradient(self, x, t):\n",
        "        loss_W = lambda W: self.loss(x, t)\n",
        "        \n",
        "        grads = {}\n",
        "        grads['W1'] = numerical_gradient(loss_W, self.params['W1'])\n",
        "        grads['b1'] = numerical_gradient(loss_W, self.params['b1'])\n",
        "        grads['W2'] = numerical_gradient(loss_W, self.params['W2'])\n",
        "        grads['b2'] = numerical_gradient(loss_W, self.params['b2'])\n",
        "        \n",
        "        return grads"
      ],
      "execution_count": 0,
      "outputs": []
    },
    {
      "cell_type": "code",
      "metadata": {
        "id": "qtxMPLbOUWv7",
        "colab_type": "code",
        "colab": {
          "base_uri": "https://localhost:8080/",
          "height": 89
        },
        "outputId": "2afb24b6-f20e-402b-cdba-ac19c7c9599d"
      },
      "source": [
        "net = TwoLayerNet(input_size = 784, hidden_size = 100, output_size = 10)\n",
        "print(net.params['W1'].shape)\n",
        "print(net.params['b1'].shape)\n",
        "print(net.params['W2'].shape)\n",
        "print(net.params['b2'].shape)\n",
        "\n",
        "x = np.random.rand(100, 784)\n",
        "y = net.predict(x)"
      ],
      "execution_count": 82,
      "outputs": [
        {
          "output_type": "stream",
          "text": [
            "(784, 100)\n",
            "(100,)\n",
            "(100, 10)\n",
            "(10,)\n"
          ],
          "name": "stdout"
        }
      ]
    },
    {
      "cell_type": "code",
      "metadata": {
        "id": "9IFn46jvWA6v",
        "colab_type": "code",
        "colab": {
          "base_uri": "https://localhost:8080/",
          "height": 593
        },
        "outputId": "cc462b9a-c5e6-4838-db98-1ac5e4c090e8"
      },
      "source": [
        "# implementation of mini batch learning\n",
        "from dataset.mnist import load_mnist\n",
        "from two_layer_net import TwoLayerNet\n",
        "\n",
        "(x_train, t_train), (x_test, t_test) = \\\n",
        "load_mnist(normalize = True, one_hot_label = True)\n",
        "\n",
        "train_loss_list = []\n",
        "train_acc_list = []\n",
        "test_acc_list = []\n",
        "\n",
        "# Hyperparameters\n",
        "iters_num = 10000\n",
        "train_size = x_train.shape[0]\n",
        "batch_size = 100\n",
        "learning_rate = 0.1\n",
        "\n",
        "iter_per_epoch = max(train_size/batch_size, 1)\n",
        "network = TwoLayerNet(input_size = 784, hidden_size = 50, output_size = 10)\n",
        "\n",
        "for i in range(iters_num):\n",
        "    batch_mask = np.random.choice(train_size, batch_size)\n",
        "    x_batch = x_train[batch_mask]\n",
        "    t_batch = t_train[batch_mask]\n",
        "    \n",
        "#     grad = network.numerical_gradient(x_batch, t_batch)\n",
        "    grad = network.gradient(x_batch, t_batch)\n",
        "    \n",
        "    for key in ('W1', 'b1', 'W2', 'b2'):\n",
        "        network.params[key] -= learning_rate * grad[key]\n",
        "        \n",
        "    loss = network.loss(x_batch, t_batch)\n",
        "    train_loss_list.append(loss)\n",
        "    \n",
        "    if i % iter_per_epoch == 0:\n",
        "        train_acc = network.accuracy(x_train, t_train)\n",
        "        test_acc = network.accuracy(x_test, t_test)\n",
        "        train_acc_list.append(train_acc)\n",
        "        test_acc_list.append(test_acc)\n",
        "        print(\"train acc, test acc : \" + str(train_acc) + \", \" + str(test_acc))\n",
        "        \n",
        "plt.plot(train_loss_list)"
      ],
      "execution_count": 88,
      "outputs": [
        {
          "output_type": "stream",
          "text": [
            "train acc, test acc : 0.09035, 0.0892\n",
            "train acc, test acc : 0.78345, 0.7868\n",
            "train acc, test acc : 0.8747333333333334, 0.878\n",
            "train acc, test acc : 0.8975666666666666, 0.9004\n",
            "train acc, test acc : 0.9088166666666667, 0.9115\n",
            "train acc, test acc : 0.9143166666666667, 0.9175\n",
            "train acc, test acc : 0.9202666666666667, 0.9213\n",
            "train acc, test acc : 0.9244166666666667, 0.9244\n",
            "train acc, test acc : 0.9287, 0.9291\n",
            "train acc, test acc : 0.9309833333333334, 0.9309\n",
            "train acc, test acc : 0.9340166666666667, 0.9316\n",
            "train acc, test acc : 0.9358166666666666, 0.9355\n",
            "train acc, test acc : 0.9398833333333333, 0.9378\n",
            "train acc, test acc : 0.9408166666666666, 0.9402\n",
            "train acc, test acc : 0.9430166666666666, 0.9401\n",
            "train acc, test acc : 0.94505, 0.9423\n",
            "train acc, test acc : 0.9470166666666666, 0.9428\n"
          ],
          "name": "stdout"
        },
        {
          "output_type": "execute_result",
          "data": {
            "text/plain": [
              "[<matplotlib.lines.Line2D at 0x7fc860e5dd68>]"
            ]
          },
          "metadata": {
            "tags": []
          },
          "execution_count": 88
        },
        {
          "output_type": "display_data",
          "data": {
            "image/png": "[encoded data removed]",
            "text/plain": [
              "<Figure size 432x288 with 1 Axes>"
            ]
          },
          "metadata": {
            "tags": []
          }
        }
      ]
    },
    {
      "cell_type": "code",
      "metadata": {
        "id": "VrKNWTRsc3R-",
        "colab_type": "code",
        "colab": {
          "base_uri": "https://localhost:8080/",
          "height": 269
        },
        "outputId": "3c30d019-3eda-4b33-e1f5-ad477e15524a"
      },
      "source": [
        "plt.plot(train_acc_list)\n",
        "plt.plot(test_acc_list)\n",
        "plt.ylim([0.0, 1.1])\n",
        "plt.grid(True)"
      ],
      "execution_count": 92,
      "outputs": [
        {
          "output_type": "display_data",
          "data": {
            "image/png": "[encoded data removed]",
            "text/plain": [
              "<Figure size 432x288 with 1 Axes>"
            ]
          },
          "metadata": {
            "tags": []
          }
        }
      ]
    }
  ]
}