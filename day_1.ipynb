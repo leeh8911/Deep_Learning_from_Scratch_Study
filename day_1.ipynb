{
  "nbformat": 4,
  "nbformat_minor": 0,
  "metadata": {
    "colab": {
      "name": "day_1.ipynb",
      "version": "0.3.2",
      "provenance": [],
      "collapsed_sections": [],
      "include_colab_link": true
    },
    "kernelspec": {
      "name": "python3",
      "display_name": "Python 3"
    }
  },
  "cells": [
    {
      "cell_type": "markdown",
      "metadata": {
        "id": "view-in-github",
        "colab_type": "text"
      },
      "source": [
        "<a href=\"https://colab.research.google.com/github/leeh8911/Deep_Learning_from_Scratch_Study/blob/master/day_1.ipynb\" target=\"_parent\"><img src=\"https://colab.research.google.com/assets/colab-badge.svg\" alt=\"Open In Colab\"/></a>"
      ]
    },
    {
      "cell_type": "markdown",
      "metadata": {
        "id": "_5gxqKcvCa1g",
        "colab_type": "text"
      },
      "source": [
        "# Deep Learning from scratch\n",
        "## chapter2. Perceptron\n",
        "### 2.1 What is perceptron?\n",
        "\n",
        "* Perceptron has multiple input signal and single output signal\n",
        "* `math expression`    "
      ]
    },
    {
      "cell_type": "code",
      "metadata": {
        "id": "SqmBg5Q5CaMh",
        "colab_type": "code",
        "colab": {}
      },
      "source": [
        "import numpy as np\n",
        "import matplotlib.pyplot as plt"
      ],
      "execution_count": 0,
      "outputs": []
    },
    {
      "cell_type": "markdown",
      "metadata": {
        "id": "zrbqBK4EEwn7",
        "colab_type": "text"
      },
      "source": [
        "## 2.2 Simple logical circuit\n",
        "### 2.2.1 AND gate\n",
        "* AND gate truth table\n",
        "### 2.2.2 NAND and OR gate\n",
        "* NAND gate truth table\n",
        "* OR gate truth table\n",
        "\n",
        "## 2.3 Perceptron Implementation\n",
        "### 2.3.1 Simple implementation\n"
      ]
    },
    {
      "cell_type": "code",
      "metadata": {
        "id": "vfkTGQtTFUDj",
        "colab_type": "code",
        "colab": {
          "base_uri": "https://localhost:8080/",
          "height": 89
        },
        "outputId": "c45aba0c-c850-416b-81f2-8bbb6ac4a2e5"
      },
      "source": [
        "def AND(x1, x2):\n",
        "    w1, w2, theta = 0.5, 0.5, 0.7\n",
        "    tmp = x1*w1 + x2*x2\n",
        "    if tmp <= theta:\n",
        "        return 0\n",
        "    elif tmp > theta:\n",
        "        return 1\n",
        "    \n",
        "    \n",
        "print(\"0 & 0 = \", AND(0,0)) # 0\n",
        "print(\"1 & 0 = \", AND(1,0)) # 0\n",
        "print(\"0 & 1 = \", AND(0,1)) # 0\n",
        "print(\"1 & 1 = \", AND(1,1)) # 1"
      ],
      "execution_count": 17,
      "outputs": [
        {
          "output_type": "stream",
          "text": [
            "0 & 0 =  0\n",
            "1 & 0 =  0\n",
            "0 & 1 =  1\n",
            "1 & 1 =  1\n"
          ],
          "name": "stdout"
        }
      ]
    },
    {
      "cell_type": "markdown",
      "metadata": {
        "id": "athi_s92F-At",
        "colab_type": "text"
      },
      "source": [
        "### 2.3.2 Weights and Bias\n",
        "* bias \"b\" is same $-\\theta$\n"
      ]
    },
    {
      "cell_type": "code",
      "metadata": {
        "id": "2nlskgVRGNf0",
        "colab_type": "code",
        "colab": {
          "base_uri": "https://localhost:8080/",
          "height": 71
        },
        "outputId": "183faa7d-aff4-419a-da6c-1d9d3cca5414"
      },
      "source": [
        "x = np.array([0,1])\n",
        "w = np.array([0.5, 0.5])\n",
        "b = -0.7\n",
        "\n",
        "print(w*x)\n",
        "\n",
        "print(np.sum(w*x))\n",
        "\n",
        "print(np.sum(w*x) + b)"
      ],
      "execution_count": 18,
      "outputs": [
        {
          "output_type": "stream",
          "text": [
            "[0.  0.5]\n",
            "0.5\n",
            "-0.19999999999999996\n"
          ],
          "name": "stdout"
        }
      ]
    },
    {
      "cell_type": "markdown",
      "metadata": {
        "id": "uVDt0XYjGp40",
        "colab_type": "text"
      },
      "source": [
        "### 2.3.3 Implement Weights and Bias\n"
      ]
    },
    {
      "cell_type": "code",
      "metadata": {
        "id": "jJZg11GCGv_d",
        "colab_type": "code",
        "colab": {
          "base_uri": "https://localhost:8080/",
          "height": 233
        },
        "outputId": "83832efd-eca9-4176-cf67-49f1b32cadc2"
      },
      "source": [
        "def AND(x1, x2):\n",
        "    x = np.array([x1, x2])\n",
        "    w = np.array([0.5, 0.5])\n",
        "    b = -0.7\n",
        "    \n",
        "    tmp = np.sum(w*x) + b\n",
        "    if tmp <= 0:\n",
        "        return 0\n",
        "    elif tmp > 0:\n",
        "        return 1\n",
        "    \n",
        "    \n",
        "def NAND(x1, x2):\n",
        "    x = np.array([x1, x2])\n",
        "    w = np.array([-0.5, -0.5])\n",
        "    b = 0.7\n",
        "    \n",
        "    tmp = np.sum(w*x) + b\n",
        "    if tmp <= 0:\n",
        "        return 0\n",
        "    elif tmp > 0:\n",
        "        return 1\n",
        "    \n",
        "\n",
        "def OR(x1, x2):\n",
        "    x = np.array([x1, x2])\n",
        "    w = np.array([0.5, 0.5])\n",
        "    b = -0.2\n",
        "    \n",
        "    tmp = np.sum(w*x) + b\n",
        "    if tmp <= 0:\n",
        "        return 0\n",
        "    elif tmp > 0:\n",
        "        return 1\n",
        "    \n",
        "    \n",
        "print(\"0 & 0 = \", AND(0,0)) # 0\n",
        "print(\"1 & 0 = \", AND(1,0)) # 0\n",
        "print(\"0 & 1 = \", AND(0,1)) # 0\n",
        "print(\"1 & 1 = \", AND(1,1)) # 1\n",
        "\n",
        "print(\"0 NAND 0 = \", NAND(0,0)) # 1\n",
        "print(\"1 NAND 0 = \", NAND(1,0)) # 1\n",
        "print(\"0 NAND 1 = \", NAND(0,1)) # 1\n",
        "print(\"1 NAND 1 = \", NAND(1,1)) # 0\n",
        "\n",
        "print(\"0 OR 0 = \", OR(0,0)) # 0\n",
        "print(\"1 OR 0 = \", OR(1,0)) # 1\n",
        "print(\"0 OR 1 = \", OR(0,1)) # 1\n",
        "print(\"1 OR 1 = \", OR(1,1)) # 1"
      ],
      "execution_count": 19,
      "outputs": [
        {
          "output_type": "stream",
          "text": [
            "0 & 0 =  0\n",
            "1 & 0 =  0\n",
            "0 & 1 =  0\n",
            "1 & 1 =  1\n",
            "0 NAND 0 =  1\n",
            "1 NAND 0 =  1\n",
            "0 NAND 1 =  1\n",
            "1 NAND 1 =  0\n",
            "0 OR 0 =  0\n",
            "1 OR 0 =  1\n",
            "0 OR 1 =  1\n",
            "1 OR 1 =  1\n"
          ],
          "name": "stdout"
        }
      ]
    },
    {
      "cell_type": "markdown",
      "metadata": {
        "id": "qaw21oJ6IDvk",
        "colab_type": "text"
      },
      "source": [
        "## 2.4 Limitation of Perceptron\n",
        "### 2.4.1 CHALLENGE! XOR gate"
      ]
    },
    {
      "cell_type": "code",
      "metadata": {
        "id": "k1y4WScmIMok",
        "colab_type": "code",
        "colab": {
          "base_uri": "https://localhost:8080/",
          "height": 299
        },
        "outputId": "cece47c8-7328-40d4-c605-13f542372be4"
      },
      "source": [
        "\n",
        "plt.subplot(1,4,1)\n",
        "plt.title(\"AND\")\n",
        "plt.axis([-1, 2, -1, 2])\n",
        "plt.grid(1)\n",
        "plt.plot(0,0,'bo')\n",
        "plt.plot(1,0,'bo')\n",
        "plt.plot(0,1,'bo')\n",
        "plt.plot(1,1,'r^')\n",
        "\n",
        "plt.subplot(1,4,2)\n",
        "plt.title(\"ANAD\")\n",
        "plt.axis([-1, 2, -1, 2])\n",
        "plt.grid(1)\n",
        "plt.plot(0,0,'r^')\n",
        "plt.plot(1,0,'r^')\n",
        "plt.plot(0,1,'r^')\n",
        "plt.plot(1,1,'bo')\n",
        "\n",
        "plt.subplot(1,4,3)\n",
        "plt.title(\"OR\")\n",
        "plt.axis([-1, 2, -1, 2])\n",
        "plt.grid(1)\n",
        "plt.plot(0,0,'bo')\n",
        "plt.plot(1,0,'r^')\n",
        "plt.plot(0,1,'r^')\n",
        "plt.plot(1,1,'r^')\n",
        "\n",
        "plt.subplot(1,4,4)\n",
        "plt.title(\"XOR\")\n",
        "plt.axis([-1, 2, -1, 2])\n",
        "plt.grid(1)\n",
        "plt.plot(0,0,'bo')\n",
        "plt.plot(1,0,'r^')\n",
        "plt.plot(0,1,'r^')\n",
        "plt.plot(1,1,'bo')"
      ],
      "execution_count": 50,
      "outputs": [
        {
          "output_type": "execute_result",
          "data": {
            "text/plain": [
              "[<matplotlib.lines.Line2D at 0x7f7955708978>]"
            ]
          },
          "metadata": {
            "tags": []
          },
          "execution_count": 50
        },
        {
          "output_type": "display_data",
          "data": {
            "image/png": "[encoded data removed]",
            "text/plain": [
              "<Figure size 432x288 with 4 Axes>"
            ]
          },
          "metadata": {
            "tags": []
          }
        }
      ]
    },
    {
      "cell_type": "code",
      "metadata": {
        "id": "vkomaHGuLAPI",
        "colab_type": "code",
        "colab": {
          "base_uri": "https://localhost:8080/",
          "height": 89
        },
        "outputId": "3a592ed5-5c4b-44f9-e9d8-1a74fb501e07"
      },
      "source": [
        "def XOR(x1, x2):\n",
        "    s1 = NAND(x1, x2)\n",
        "    s2 = OR(x1, x2)\n",
        "    y = AND(s1, s2)\n",
        "    \n",
        "    return y\n",
        "\n",
        "\n",
        "print(\"0 XOR 0 = \", XOR(0,0)) # 0\n",
        "print(\"1 XOR 0 = \", XOR(1,0)) # 1\n",
        "print(\"0 XOR 1 = \", XOR(0,1)) # 1\n",
        "print(\"1 XOR 1 = \", XOR(1,1)) # 0"
      ],
      "execution_count": 51,
      "outputs": [
        {
          "output_type": "stream",
          "text": [
            "0 XOR 0 =  0\n",
            "1 XOR 0 =  1\n",
            "0 XOR 1 =  1\n",
            "1 XOR 1 =  0\n"
          ],
          "name": "stdout"
        }
      ]
    }
  ]
}